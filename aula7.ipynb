{
 "cells": [
  {
   "cell_type": "markdown",
   "metadata": {},
   "source": [
    "<h1>NumPy</h1>"
   ]
  },
  {
   "cell_type": "code",
   "execution_count": 6,
   "metadata": {},
   "outputs": [],
   "source": [
    "import numpy as np"
   ]
  },
  {
   "cell_type": "code",
   "execution_count": null,
   "metadata": {},
   "outputs": [],
   "source": [
    "precos = np.array([10.4, 40.2, 100, 22.46])\n",
    "idades = np.array([12, 13, 14, 15])"
   ]
  },
  {
   "cell_type": "code",
   "execution_count": null,
   "metadata": {},
   "outputs": [],
   "source": [
    "# Calcular estatísticas\n",
    "print(\"Média:\", np.mean(precos))\n",
    "print(\"Mínimo:\", np.min(precos))\n",
    "print(\"Máximo:\", np.max(precos))"
   ]
  },
  {
   "cell_type": "code",
   "execution_count": null,
   "metadata": {},
   "outputs": [],
   "source": [
    "# Simular aumento de 10% nos preços\n",
    "precos_aumentados = precos * 1.1\n",
    "precos_aumentados"
   ]
  },
  {
   "cell_type": "code",
   "execution_count": null,
   "metadata": {},
   "outputs": [],
   "source": [
    "# Idades daqui 2 anos\n",
    "idades_mais_2 = idades + 2\n",
    "idades_mais_2"
   ]
  },
  {
   "cell_type": "markdown",
   "metadata": {},
   "source": [
    "<h2>Exercício:</h2>\n",
    "<h4>Dada a seguinte lista de idades: [24, 25, 26, 44], crie um numpy array dessa lista, retorne a maior e a menor idade, seguida da sua média.</h4>\n",
    "<h4>Por fim, retorne como seriam as idades 2 anos atrás, utilizando operações em NumPy Array</h4>"
   ]
  },
  {
   "cell_type": "markdown",
   "metadata": {},
   "source": [
    "<h1>Pandas</h1>"
   ]
  },
  {
   "cell_type": "code",
   "execution_count": 15,
   "metadata": {},
   "outputs": [],
   "source": [
    "import pandas as pd"
   ]
  },
  {
   "cell_type": "code",
   "execution_count": 16,
   "metadata": {},
   "outputs": [
    {
     "name": "stdout",
     "output_type": "stream",
     "text": [
      "    Produto  Preço  Estoque\n",
      "0        TV   1500       10\n",
      "1   Monitor    800       20\n",
      "2  Notebook   3500        5\n"
     ]
    }
   ],
   "source": [
    "# Criando um DataFrame do zero\n",
    "data = {\n",
    "    \"Produto\": [\"TV\", \"Monitor\", \"Notebook\"],\n",
    "    \"Preço\": [1500, 800, 3500],\n",
    "    \"Estoque\": [10, 20, 5]\n",
    "}\n",
    "df_exemplo = pd.DataFrame(data)\n",
    "print(df_exemplo)\n"
   ]
  },
  {
   "cell_type": "code",
   "execution_count": 17,
   "metadata": {},
   "outputs": [],
   "source": [
    "df = pd.read_csv('FAKE_DATA.csv')"
   ]
  },
  {
   "cell_type": "code",
   "execution_count": 18,
   "metadata": {},
   "outputs": [
    {
     "data": {
      "text/html": [
       "<div>\n",
       "<style scoped>\n",
       "    .dataframe tbody tr th:only-of-type {\n",
       "        vertical-align: middle;\n",
       "    }\n",
       "\n",
       "    .dataframe tbody tr th {\n",
       "        vertical-align: top;\n",
       "    }\n",
       "\n",
       "    .dataframe thead th {\n",
       "        text-align: right;\n",
       "    }\n",
       "</style>\n",
       "<table border=\"1\" class=\"dataframe\">\n",
       "  <thead>\n",
       "    <tr style=\"text-align: right;\">\n",
       "      <th></th>\n",
       "      <th>product_id</th>\n",
       "      <th>model_suffix</th>\n",
       "      <th>division</th>\n",
       "      <th>selling_price</th>\n",
       "      <th>sales_qty</th>\n",
       "      <th>production_qty</th>\n",
       "      <th>material_rate</th>\n",
       "      <th>customer_name</th>\n",
       "      <th>customer_email</th>\n",
       "      <th>customer_country</th>\n",
       "    </tr>\n",
       "  </thead>\n",
       "  <tbody>\n",
       "    <tr>\n",
       "      <th>0</th>\n",
       "      <td>1.0</td>\n",
       "      <td>Pastry - Apple Muffins - Mini</td>\n",
       "      <td>TV</td>\n",
       "      <td>368.92</td>\n",
       "      <td>707</td>\n",
       "      <td>5/26/2022</td>\n",
       "      <td>0.57</td>\n",
       "      <td>Geri Sheppard</td>\n",
       "      <td>gsheppard0@aboutads.info</td>\n",
       "      <td>Ukraine</td>\n",
       "    </tr>\n",
       "    <tr>\n",
       "      <th>1</th>\n",
       "      <td>NaN</td>\n",
       "      <td>NaN</td>\n",
       "      <td>TV</td>\n",
       "      <td>7.95</td>\n",
       "      <td>495</td>\n",
       "      <td>7/20/2022</td>\n",
       "      <td>0.53</td>\n",
       "      <td>Hanson Vowells</td>\n",
       "      <td>hvowells1@printfriendly.com</td>\n",
       "      <td>Azerbaijan</td>\n",
       "    </tr>\n",
       "    <tr>\n",
       "      <th>2</th>\n",
       "      <td>3.0</td>\n",
       "      <td>Capers - Ox Eye Daisy</td>\n",
       "      <td>MNT</td>\n",
       "      <td>430.14</td>\n",
       "      <td>776</td>\n",
       "      <td>10/28/2022</td>\n",
       "      <td>0.51</td>\n",
       "      <td>Ernesta Neylon</td>\n",
       "      <td>eneylon2@army.mil</td>\n",
       "      <td>Portugal</td>\n",
       "    </tr>\n",
       "    <tr>\n",
       "      <th>3</th>\n",
       "      <td>NaN</td>\n",
       "      <td>Sobe - Cranberry Grapefruit</td>\n",
       "      <td>TV</td>\n",
       "      <td>694.57</td>\n",
       "      <td>91</td>\n",
       "      <td>8/20/2022</td>\n",
       "      <td>0.62</td>\n",
       "      <td>Celle Mariet</td>\n",
       "      <td>cmariet3@nps.gov</td>\n",
       "      <td>Ukraine</td>\n",
       "    </tr>\n",
       "    <tr>\n",
       "      <th>4</th>\n",
       "      <td>5.0</td>\n",
       "      <td>Peas Snow</td>\n",
       "      <td>Caraud</td>\n",
       "      <td>180.83</td>\n",
       "      <td>268</td>\n",
       "      <td>6/9/2022</td>\n",
       "      <td>0.51</td>\n",
       "      <td>Pearl Whelband</td>\n",
       "      <td>NaN</td>\n",
       "      <td>Poland</td>\n",
       "    </tr>\n",
       "  </tbody>\n",
       "</table>\n",
       "</div>"
      ],
      "text/plain": [
       "   product_id                   model_suffix division  selling_price  \\\n",
       "0         1.0  Pastry - Apple Muffins - Mini       TV         368.92   \n",
       "1         NaN                            NaN       TV           7.95   \n",
       "2         3.0          Capers - Ox Eye Daisy      MNT         430.14   \n",
       "3         NaN    Sobe - Cranberry Grapefruit       TV         694.57   \n",
       "4         5.0                      Peas Snow   Caraud         180.83   \n",
       "\n",
       "   sales_qty production_qty  material_rate   customer_name  \\\n",
       "0        707      5/26/2022           0.57   Geri Sheppard   \n",
       "1        495      7/20/2022           0.53  Hanson Vowells   \n",
       "2        776     10/28/2022           0.51  Ernesta Neylon   \n",
       "3         91      8/20/2022           0.62    Celle Mariet   \n",
       "4        268       6/9/2022           0.51  Pearl Whelband   \n",
       "\n",
       "                customer_email customer_country  \n",
       "0     gsheppard0@aboutads.info          Ukraine  \n",
       "1  hvowells1@printfriendly.com       Azerbaijan  \n",
       "2            eneylon2@army.mil         Portugal  \n",
       "3             cmariet3@nps.gov          Ukraine  \n",
       "4                          NaN           Poland  "
      ]
     },
     "execution_count": 18,
     "metadata": {},
     "output_type": "execute_result"
    }
   ],
   "source": [
    "df.head()"
   ]
  },
  {
   "cell_type": "code",
   "execution_count": 19,
   "metadata": {},
   "outputs": [
    {
     "data": {
      "text/plain": [
       "pandas.core.frame.DataFrame"
      ]
     },
     "execution_count": 19,
     "metadata": {},
     "output_type": "execute_result"
    }
   ],
   "source": [
    "type(df)"
   ]
  },
  {
   "cell_type": "code",
   "execution_count": 20,
   "metadata": {},
   "outputs": [
    {
     "name": "stdout",
     "output_type": "stream",
     "text": [
      "     product_id                       model_suffix   division  selling_price  \\\n",
      "0           1.0      Pastry - Apple Muffins - Mini         TV         368.92   \n",
      "2           3.0              Capers - Ox Eye Daisy        MNT         430.14   \n",
      "3           NaN        Sobe - Cranberry Grapefruit         TV         694.57   \n",
      "6           7.0                  Alize Red Passion  Projector         601.62   \n",
      "7           8.0            Cheese - Havarti, Salsa  Projector         822.88   \n",
      "..          ...                                ...        ...            ...   \n",
      "994       995.0               Pecan Raisin - Tarts        MNT         789.51   \n",
      "996         NaN          Jolt Cola - Electric Blue  Projector         917.79   \n",
      "997       998.0  Wine - Semi Dry Riesling Vineland         TV         638.40   \n",
      "998         NaN   Sparkling Wine - Rose, Freixenet     Caraud         978.29   \n",
      "999         NaN          Bag - Regular Kraft 20 Lb        MNT         760.50   \n",
      "\n",
      "     sales_qty production_qty  material_rate    customer_name  \\\n",
      "0          707      5/26/2022           0.57    Geri Sheppard   \n",
      "2          776     10/28/2022           0.51   Ernesta Neylon   \n",
      "3           91      8/20/2022           0.62     Celle Mariet   \n",
      "6          367      7/30/2022           0.31     Jules Oxbury   \n",
      "7          958      5/20/2022           0.59  Brandon Crocken   \n",
      "..         ...            ...            ...              ...   \n",
      "994        771     12/22/2022           0.63   Reiko Fillgate   \n",
      "996        540     12/19/2022           0.65   Madalyn Sansam   \n",
      "997        600      1/11/2022           0.42   Gearard Hacard   \n",
      "998        545      11/4/2022           0.26  Kristin Wilsher   \n",
      "999        578      7/10/2022           0.44  Casper Challace   \n",
      "\n",
      "                  customer_email customer_country  \n",
      "0       gsheppard0@aboutads.info          Ukraine  \n",
      "2              eneylon2@army.mil         Portugal  \n",
      "3               cmariet3@nps.gov          Ukraine  \n",
      "6          joxbury6@usatoday.com            China  \n",
      "7    bcrocken7@sciencedirect.com            China  \n",
      "..                           ...              ...  \n",
      "994       rfillgaterm@discuz.net           Sweden  \n",
      "996        msansamro@sina.com.cn        Indonesia  \n",
      "997                          NaN           Canada  \n",
      "998                          NaN          Germany  \n",
      "999        cchallacerr@skype.com           Brazil  \n",
      "\n",
      "[735 rows x 10 columns]\n",
      "     product_id                  model_suffix   division  selling_price  \\\n",
      "757       758.0            Sage Ground Wiberg    Cooking         997.98   \n",
      "682         NaN         Rice Wine - Aji Mirin  Projector         996.96   \n",
      "842         NaN      Beef - Top Sirloin - Aaa     Caraud         996.60   \n",
      "25         26.0          Water - Evian 355 Ml         TV         995.07   \n",
      "607       608.0            Coffee - Flavoured        MNT         994.61   \n",
      "..          ...                           ...        ...            ...   \n",
      "643       644.0             Melon - Honey Dew     Caraud           4.85   \n",
      "335       336.0   Chocolate - Pistoles, White    Cooking           4.82   \n",
      "489       490.0  Chinese Foods - Chicken Wing     Caraud           3.88   \n",
      "92         93.0                Veal - Knuckle        MNT           2.98   \n",
      "224         NaN               Beer - Heinekin         TV           2.43   \n",
      "\n",
      "     sales_qty production_qty  material_rate    customer_name  \\\n",
      "757        729      1/11/2022           0.39    Filmore Ingon   \n",
      "682        246      10/5/2022           0.62  Elnora Dalglish   \n",
      "842        685       1/5/2022           0.66   Wandie Watford   \n",
      "25         265       9/7/2022           0.21     Jordain Kiln   \n",
      "607         94       7/6/2022           0.66     Eadith Moyer   \n",
      "..         ...            ...            ...              ...   \n",
      "643        570      6/10/2022           0.75   Reginauld Keal   \n",
      "335        647       6/7/2022           0.35   Mitzi Lockless   \n",
      "489        458      8/15/2022           0.30     Riki Barling   \n",
      "92         636     10/29/2022           0.42      Taffy Kemer   \n",
      "224        531     10/20/2022           0.43     Randi Terris   \n",
      "\n",
      "                   customer_email customer_country  \n",
      "757           fingonl1@usnews.com        Indonesia  \n",
      "682     edalglishiy@xinhuanet.com            Japan  \n",
      "842    wwatfordne@dailymotion.com            China  \n",
      "25                 jkilnp@cnn.com            China  \n",
      "607             emoyergv@fema.gov   Czech Republic  \n",
      "..                            ...              ...  \n",
      "643               rkealhv@ihg.com           Brazil  \n",
      "335         mlockless9b@webmd.com            China  \n",
      "489       rbarlingdl@japanpost.jp           Brazil  \n",
      "92           tkemer2k@nytimes.com           Russia  \n",
      "224  rterris68@simplemachines.org         Portugal  \n",
      "\n",
      "[1000 rows x 10 columns]\n"
     ]
    },
    {
     "data": {
      "text/plain": [
       "division\n",
       "Caraud       474.677778\n",
       "Cooking      518.333333\n",
       "MNT          510.752475\n",
       "Projector    492.194175\n",
       "TV           512.770732\n",
       "Name: sales_qty, dtype: float64"
      ]
     },
     "execution_count": 20,
     "metadata": {},
     "output_type": "execute_result"
    }
   ],
   "source": [
    "# Filtrar produtos acima de R$ 300\n",
    "df_filtrado = df[df[\"selling_price\"] > 300]\n",
    "print(df_filtrado)\n",
    "\n",
    "# Ordenar por preço de venda\n",
    "df_sorted = df.sort_values(by=\"selling_price\", ascending=False)\n",
    "print(df_sorted)\n",
    "\n",
    "# Média de vendas por divisão\n",
    "media_divisao = df.groupby(\"division\")[\"sales_qty\"].mean()\n",
    "media_divisao"
   ]
  },
  {
   "cell_type": "code",
   "execution_count": 21,
   "metadata": {},
   "outputs": [
    {
     "name": "stdout",
     "output_type": "stream",
     "text": [
      "     product_id                       model_suffix   division  selling_price  \\\n",
      "0           1.0      Pastry - Apple Muffins - Mini         TV         368.92   \n",
      "2           3.0              Capers - Ox Eye Daisy        MNT         430.14   \n",
      "7           8.0            Cheese - Havarti, Salsa  Projector         822.88   \n",
      "12          NaN                    Cream Of Tartar     Caraud         464.62   \n",
      "13         14.0                       Cabbage Roll         TV         118.81   \n",
      "..          ...                                ...        ...            ...   \n",
      "994       995.0               Pecan Raisin - Tarts        MNT         789.51   \n",
      "996         NaN          Jolt Cola - Electric Blue  Projector         917.79   \n",
      "997       998.0  Wine - Semi Dry Riesling Vineland         TV         638.40   \n",
      "998         NaN   Sparkling Wine - Rose, Freixenet     Caraud         978.29   \n",
      "999         NaN          Bag - Regular Kraft 20 Lb        MNT         760.50   \n",
      "\n",
      "     sales_qty production_qty  material_rate    customer_name  \\\n",
      "0          707      5/26/2022           0.57    Geri Sheppard   \n",
      "2          776     10/28/2022           0.51   Ernesta Neylon   \n",
      "7          958      5/20/2022           0.59  Brandon Crocken   \n",
      "12         916      7/10/2022           0.28   Carlyn Pollitt   \n",
      "13         950      12/8/2022           0.89  Dillon Handling   \n",
      "..         ...            ...            ...              ...   \n",
      "994        771     12/22/2022           0.63   Reiko Fillgate   \n",
      "996        540     12/19/2022           0.65   Madalyn Sansam   \n",
      "997        600      1/11/2022           0.42   Gearard Hacard   \n",
      "998        545      11/4/2022           0.26  Kristin Wilsher   \n",
      "999        578      7/10/2022           0.44  Casper Challace   \n",
      "\n",
      "                  customer_email customer_country  \n",
      "0       gsheppard0@aboutads.info          Ukraine  \n",
      "2              eneylon2@army.mil         Portugal  \n",
      "7    bcrocken7@sciencedirect.com            China  \n",
      "12        cpollittc@yolasite.com          Vietnam  \n",
      "13                           NaN           Poland  \n",
      "..                           ...              ...  \n",
      "994       rfillgaterm@discuz.net           Sweden  \n",
      "996        msansamro@sina.com.cn        Indonesia  \n",
      "997                          NaN           Canada  \n",
      "998                          NaN          Germany  \n",
      "999        cchallacerr@skype.com           Brazil  \n",
      "\n",
      "[504 rows x 10 columns]\n",
      "     product_id                     model_suffix   division  selling_price  \\\n",
      "960         NaN       Hot Chocolate - Individual         TV          27.49   \n",
      "214       215.0  Wine - Red, Pinot Noir, Chateau     Caraud         902.67   \n",
      "859         NaN             Myers Planters Punch     Caraud         381.50   \n",
      "622         NaN       Appetizer - Veg Assortment  Projector         258.75   \n",
      "632       633.0                        Peas Snow         TV         760.57   \n",
      "..          ...                              ...        ...            ...   \n",
      "468       469.0                Sausage - Chorizo  Projector         872.53   \n",
      "685       686.0       Wine - Placido Pinot Grigo         TV           5.21   \n",
      "680       681.0                     Butter Sweet     Caraud          82.61   \n",
      "406         NaN       Chivas Regal - 12 Year Old        MNT         600.90   \n",
      "849       850.0                    Lamb - Ground        MNT         301.43   \n",
      "\n",
      "     sales_qty production_qty  material_rate        customer_name  \\\n",
      "960        822       9/9/2022           0.86         Del Piddocke   \n",
      "214        154       9/8/2022           0.67       Nataniel Delue   \n",
      "859        409       9/8/2022           0.29          Dwain Seath   \n",
      "622        908       9/7/2022           0.38         Mikkel Lewsy   \n",
      "632        538       9/7/2022           0.57  Alejandro Bartosiak   \n",
      "..         ...            ...            ...                  ...   \n",
      "468        493       1/1/2022           0.88        Meagan Alcott   \n",
      "685        553       1/1/2022           0.49        Lucais Danzey   \n",
      "680        134       1/1/2022           0.62         Lona I'anson   \n",
      "406        263       1/1/2022           0.72       Vinny Monnelly   \n",
      "849        421       1/1/2022           0.53     Doralynne Pigden   \n",
      "\n",
      "                     customer_email customer_country  \n",
      "960                             NaN      North Korea  \n",
      "214             ndelue5y@reddit.com            China  \n",
      "859      dseathnv@deliciousdays.com      Philippines  \n",
      "622             mlewsyha@spiegel.de           Zambia  \n",
      "632  abartosiakhk@howstuffworks.com    United States  \n",
      "..                              ...              ...  \n",
      "468              malcottd0@admin.ch      Philippines  \n",
      "685     ldanzeyj1@sciencedirect.com            Kenya  \n",
      "680       liansoniw@stumbleupon.com             Peru  \n",
      "406         vmonnellyba@4shared.com           Mexico  \n",
      "849          dpigdennl@sakura.ne.jp            China  \n",
      "\n",
      "[1000 rows x 10 columns]\n",
      "customer_country\n",
      "Afghanistan      0.512500\n",
      "Aland Islands    0.800000\n",
      "Albania          0.634286\n",
      "Angola           0.520000\n",
      "Argentina        0.661429\n",
      "                   ...   \n",
      "Venezuela        0.355000\n",
      "Vietnam          0.595714\n",
      "Yemen            0.660000\n",
      "Zambia           0.380000\n",
      "Zimbabwe         0.500000\n",
      "Name: material_rate, Length: 121, dtype: float64\n"
     ]
    }
   ],
   "source": [
    "# Produtos vendidos acima de 500 unidades\n",
    "df_vendas_altas = df[df[\"sales_qty\"] > 500]\n",
    "print(df_vendas_altas)\n",
    "\n",
    "# Ordenar os produtos pela quantidade de produção\n",
    "df_sorted = df.sort_values(by=\"production_qty\", ascending=False)\n",
    "print(df_sorted)\n",
    "\n",
    "# Média de material rate por país de cliente\n",
    "media_material = df.groupby(\"customer_country\")[\"material_rate\"].mean()\n",
    "print(media_material)\n"
   ]
  },
  {
   "cell_type": "code",
   "execution_count": 22,
   "metadata": {},
   "outputs": [
    {
     "ename": "ModuleNotFoundError",
     "evalue": "No module named 'openpyxl'",
     "output_type": "error",
     "traceback": [
      "\u001b[1;31m---------------------------------------------------------------------------\u001b[0m",
      "\u001b[1;31mModuleNotFoundError\u001b[0m                       Traceback (most recent call last)",
      "Cell \u001b[1;32mIn[22], line 5\u001b[0m\n\u001b[0;32m      2\u001b[0m df\u001b[38;5;241m.\u001b[39mto_csv(\u001b[38;5;124m\"\u001b[39m\u001b[38;5;124mdados_processados.csv\u001b[39m\u001b[38;5;124m\"\u001b[39m, index\u001b[38;5;241m=\u001b[39m\u001b[38;5;28;01mFalse\u001b[39;00m)\n\u001b[0;32m      4\u001b[0m \u001b[38;5;66;03m# Exportar para Excel\u001b[39;00m\n\u001b[1;32m----> 5\u001b[0m \u001b[43mdf\u001b[49m\u001b[38;5;241;43m.\u001b[39;49m\u001b[43mto_excel\u001b[49m\u001b[43m(\u001b[49m\u001b[38;5;124;43m\"\u001b[39;49m\u001b[38;5;124;43mdados_processados.xlsx\u001b[39;49m\u001b[38;5;124;43m\"\u001b[39;49m\u001b[43m,\u001b[49m\u001b[43m \u001b[49m\u001b[43msheet_name\u001b[49m\u001b[38;5;241;43m=\u001b[39;49m\u001b[38;5;124;43m\"\u001b[39;49m\u001b[38;5;124;43mDados\u001b[39;49m\u001b[38;5;124;43m\"\u001b[39;49m\u001b[43m,\u001b[49m\u001b[43m \u001b[49m\u001b[43mindex\u001b[49m\u001b[38;5;241;43m=\u001b[39;49m\u001b[38;5;28;43;01mFalse\u001b[39;49;00m\u001b[43m)\u001b[49m\n",
      "File \u001b[1;32mc:\\Users\\arles\\AppData\\Local\\Programs\\Python\\Python310\\lib\\site-packages\\pandas\\util\\_decorators.py:333\u001b[0m, in \u001b[0;36mdeprecate_nonkeyword_arguments.<locals>.decorate.<locals>.wrapper\u001b[1;34m(*args, **kwargs)\u001b[0m\n\u001b[0;32m    327\u001b[0m \u001b[38;5;28;01mif\u001b[39;00m \u001b[38;5;28mlen\u001b[39m(args) \u001b[38;5;241m>\u001b[39m num_allow_args:\n\u001b[0;32m    328\u001b[0m     warnings\u001b[38;5;241m.\u001b[39mwarn(\n\u001b[0;32m    329\u001b[0m         msg\u001b[38;5;241m.\u001b[39mformat(arguments\u001b[38;5;241m=\u001b[39m_format_argument_list(allow_args)),\n\u001b[0;32m    330\u001b[0m         \u001b[38;5;167;01mFutureWarning\u001b[39;00m,\n\u001b[0;32m    331\u001b[0m         stacklevel\u001b[38;5;241m=\u001b[39mfind_stack_level(),\n\u001b[0;32m    332\u001b[0m     )\n\u001b[1;32m--> 333\u001b[0m \u001b[38;5;28;01mreturn\u001b[39;00m func(\u001b[38;5;241m*\u001b[39margs, \u001b[38;5;241m*\u001b[39m\u001b[38;5;241m*\u001b[39mkwargs)\n",
      "File \u001b[1;32mc:\\Users\\arles\\AppData\\Local\\Programs\\Python\\Python310\\lib\\site-packages\\pandas\\core\\generic.py:2417\u001b[0m, in \u001b[0;36mNDFrame.to_excel\u001b[1;34m(self, excel_writer, sheet_name, na_rep, float_format, columns, header, index, index_label, startrow, startcol, engine, merge_cells, inf_rep, freeze_panes, storage_options, engine_kwargs)\u001b[0m\n\u001b[0;32m   2404\u001b[0m \u001b[38;5;28;01mfrom\u001b[39;00m\u001b[38;5;250m \u001b[39m\u001b[38;5;21;01mpandas\u001b[39;00m\u001b[38;5;21;01m.\u001b[39;00m\u001b[38;5;21;01mio\u001b[39;00m\u001b[38;5;21;01m.\u001b[39;00m\u001b[38;5;21;01mformats\u001b[39;00m\u001b[38;5;21;01m.\u001b[39;00m\u001b[38;5;21;01mexcel\u001b[39;00m\u001b[38;5;250m \u001b[39m\u001b[38;5;28;01mimport\u001b[39;00m ExcelFormatter\n\u001b[0;32m   2406\u001b[0m formatter \u001b[38;5;241m=\u001b[39m ExcelFormatter(\n\u001b[0;32m   2407\u001b[0m     df,\n\u001b[0;32m   2408\u001b[0m     na_rep\u001b[38;5;241m=\u001b[39mna_rep,\n\u001b[1;32m   (...)\u001b[0m\n\u001b[0;32m   2415\u001b[0m     inf_rep\u001b[38;5;241m=\u001b[39minf_rep,\n\u001b[0;32m   2416\u001b[0m )\n\u001b[1;32m-> 2417\u001b[0m \u001b[43mformatter\u001b[49m\u001b[38;5;241;43m.\u001b[39;49m\u001b[43mwrite\u001b[49m\u001b[43m(\u001b[49m\n\u001b[0;32m   2418\u001b[0m \u001b[43m    \u001b[49m\u001b[43mexcel_writer\u001b[49m\u001b[43m,\u001b[49m\n\u001b[0;32m   2419\u001b[0m \u001b[43m    \u001b[49m\u001b[43msheet_name\u001b[49m\u001b[38;5;241;43m=\u001b[39;49m\u001b[43msheet_name\u001b[49m\u001b[43m,\u001b[49m\n\u001b[0;32m   2420\u001b[0m \u001b[43m    \u001b[49m\u001b[43mstartrow\u001b[49m\u001b[38;5;241;43m=\u001b[39;49m\u001b[43mstartrow\u001b[49m\u001b[43m,\u001b[49m\n\u001b[0;32m   2421\u001b[0m \u001b[43m    \u001b[49m\u001b[43mstartcol\u001b[49m\u001b[38;5;241;43m=\u001b[39;49m\u001b[43mstartcol\u001b[49m\u001b[43m,\u001b[49m\n\u001b[0;32m   2422\u001b[0m \u001b[43m    \u001b[49m\u001b[43mfreeze_panes\u001b[49m\u001b[38;5;241;43m=\u001b[39;49m\u001b[43mfreeze_panes\u001b[49m\u001b[43m,\u001b[49m\n\u001b[0;32m   2423\u001b[0m \u001b[43m    \u001b[49m\u001b[43mengine\u001b[49m\u001b[38;5;241;43m=\u001b[39;49m\u001b[43mengine\u001b[49m\u001b[43m,\u001b[49m\n\u001b[0;32m   2424\u001b[0m \u001b[43m    \u001b[49m\u001b[43mstorage_options\u001b[49m\u001b[38;5;241;43m=\u001b[39;49m\u001b[43mstorage_options\u001b[49m\u001b[43m,\u001b[49m\n\u001b[0;32m   2425\u001b[0m \u001b[43m    \u001b[49m\u001b[43mengine_kwargs\u001b[49m\u001b[38;5;241;43m=\u001b[39;49m\u001b[43mengine_kwargs\u001b[49m\u001b[43m,\u001b[49m\n\u001b[0;32m   2426\u001b[0m \u001b[43m\u001b[49m\u001b[43m)\u001b[49m\n",
      "File \u001b[1;32mc:\\Users\\arles\\AppData\\Local\\Programs\\Python\\Python310\\lib\\site-packages\\pandas\\io\\formats\\excel.py:943\u001b[0m, in \u001b[0;36mExcelFormatter.write\u001b[1;34m(self, writer, sheet_name, startrow, startcol, freeze_panes, engine, storage_options, engine_kwargs)\u001b[0m\n\u001b[0;32m    941\u001b[0m     need_save \u001b[38;5;241m=\u001b[39m \u001b[38;5;28;01mFalse\u001b[39;00m\n\u001b[0;32m    942\u001b[0m \u001b[38;5;28;01melse\u001b[39;00m:\n\u001b[1;32m--> 943\u001b[0m     writer \u001b[38;5;241m=\u001b[39m \u001b[43mExcelWriter\u001b[49m\u001b[43m(\u001b[49m\n\u001b[0;32m    944\u001b[0m \u001b[43m        \u001b[49m\u001b[43mwriter\u001b[49m\u001b[43m,\u001b[49m\n\u001b[0;32m    945\u001b[0m \u001b[43m        \u001b[49m\u001b[43mengine\u001b[49m\u001b[38;5;241;43m=\u001b[39;49m\u001b[43mengine\u001b[49m\u001b[43m,\u001b[49m\n\u001b[0;32m    946\u001b[0m \u001b[43m        \u001b[49m\u001b[43mstorage_options\u001b[49m\u001b[38;5;241;43m=\u001b[39;49m\u001b[43mstorage_options\u001b[49m\u001b[43m,\u001b[49m\n\u001b[0;32m    947\u001b[0m \u001b[43m        \u001b[49m\u001b[43mengine_kwargs\u001b[49m\u001b[38;5;241;43m=\u001b[39;49m\u001b[43mengine_kwargs\u001b[49m\u001b[43m,\u001b[49m\n\u001b[0;32m    948\u001b[0m \u001b[43m    \u001b[49m\u001b[43m)\u001b[49m\n\u001b[0;32m    949\u001b[0m     need_save \u001b[38;5;241m=\u001b[39m \u001b[38;5;28;01mTrue\u001b[39;00m\n\u001b[0;32m    951\u001b[0m \u001b[38;5;28;01mtry\u001b[39;00m:\n",
      "File \u001b[1;32mc:\\Users\\arles\\AppData\\Local\\Programs\\Python\\Python310\\lib\\site-packages\\pandas\\io\\excel\\_openpyxl.py:57\u001b[0m, in \u001b[0;36mOpenpyxlWriter.__init__\u001b[1;34m(self, path, engine, date_format, datetime_format, mode, storage_options, if_sheet_exists, engine_kwargs, **kwargs)\u001b[0m\n\u001b[0;32m     44\u001b[0m \u001b[38;5;28;01mdef\u001b[39;00m\u001b[38;5;250m \u001b[39m\u001b[38;5;21m__init__\u001b[39m(\n\u001b[0;32m     45\u001b[0m     \u001b[38;5;28mself\u001b[39m,\n\u001b[0;32m     46\u001b[0m     path: FilePath \u001b[38;5;241m|\u001b[39m WriteExcelBuffer \u001b[38;5;241m|\u001b[39m ExcelWriter,\n\u001b[1;32m   (...)\u001b[0m\n\u001b[0;32m     55\u001b[0m ) \u001b[38;5;241m-\u001b[39m\u001b[38;5;241m>\u001b[39m \u001b[38;5;28;01mNone\u001b[39;00m:\n\u001b[0;32m     56\u001b[0m     \u001b[38;5;66;03m# Use the openpyxl module as the Excel writer.\u001b[39;00m\n\u001b[1;32m---> 57\u001b[0m     \u001b[38;5;28;01mfrom\u001b[39;00m\u001b[38;5;250m \u001b[39m\u001b[38;5;21;01mopenpyxl\u001b[39;00m\u001b[38;5;21;01m.\u001b[39;00m\u001b[38;5;21;01mworkbook\u001b[39;00m\u001b[38;5;250m \u001b[39m\u001b[38;5;28;01mimport\u001b[39;00m Workbook\n\u001b[0;32m     59\u001b[0m     engine_kwargs \u001b[38;5;241m=\u001b[39m combine_kwargs(engine_kwargs, kwargs)\n\u001b[0;32m     61\u001b[0m     \u001b[38;5;28msuper\u001b[39m()\u001b[38;5;241m.\u001b[39m\u001b[38;5;21m__init__\u001b[39m(\n\u001b[0;32m     62\u001b[0m         path,\n\u001b[0;32m     63\u001b[0m         mode\u001b[38;5;241m=\u001b[39mmode,\n\u001b[1;32m   (...)\u001b[0m\n\u001b[0;32m     66\u001b[0m         engine_kwargs\u001b[38;5;241m=\u001b[39mengine_kwargs,\n\u001b[0;32m     67\u001b[0m     )\n",
      "\u001b[1;31mModuleNotFoundError\u001b[0m: No module named 'openpyxl'"
     ]
    }
   ],
   "source": [
    "# Exportar para CSV\n",
    "df.to_csv(\"dados_processados.csv\", index=False)\n",
    "\n",
    "# Exportar para Excel\n",
    "df.to_excel(\"dados_processados.xlsx\", sheet_name=\"Dados\", index=False)\n"
   ]
  },
  {
   "cell_type": "code",
   "execution_count": null,
   "metadata": {},
   "outputs": [],
   "source": [
    "with pd.ExcelWriter(\"relatorio.xlsx\") as writer:\n",
    "    df_vendas_altas.to_excel(writer, sheet_name=\"Vendas Altas\", index=False)\n",
    "    df_sorted.to_excel(writer, sheet_name=\"Ordenado por Preço\", index=False)"
   ]
  },
  {
   "cell_type": "markdown",
   "metadata": {},
   "source": [
    "<h1>Bônus - MatPlotLib</h1>"
   ]
  },
  {
   "cell_type": "code",
   "execution_count": null,
   "metadata": {},
   "outputs": [
    {
     "data": {
      "image/png": "[encoded data removed]",
      "text/plain": [
       "<Figure size 1000x500 with 1 Axes>"
      ]
     },
     "metadata": {},
     "output_type": "display_data"
    }
   ],
   "source": [
    "import matplotlib.pyplot as plt\n",
    "\n",
    "# Agrupar as vendas por divisão\n",
    "vendas_por_divisao = df.groupby(\"division\")[\"sales_qty\"].sum()\n",
    "\n",
    "# Criar o gráfico de barras\n",
    "plt.figure(figsize=(10,5))\n",
    "plt.bar(vendas_por_divisao.index, vendas_por_divisao.values, color=\"royalblue\")\n",
    "plt.xlabel(\"Divisão\")\n",
    "plt.ylabel(\"Total de Vendas\")\n",
    "plt.title(\"Total de Vendas por Divisão\")\n",
    "plt.xticks(rotation=45)  # Rotacionar rótulos no eixo X\n",
    "plt.show()\n"
   ]
  },
  {
   "cell_type": "code",
   "execution_count": 29,
   "metadata": {},
   "outputs": [
    {
     "data": {
      "image/png": "[encoded data removed]",
      "text/plain": [
       "<Figure size 800x800 with 1 Axes>"
      ]
     },
     "metadata": {},
     "output_type": "display_data"
    }
   ],
   "source": [
    "# Agrupar as vendas por país e selecionar os 5 principais\n",
    "vendas_por_pais = df.groupby(\"customer_country\")[\"sales_qty\"].sum()\n",
    "vendas_top5 = vendas_por_pais.nlargest(5)  # Pegar os 5 maiores países\n",
    "\n",
    "# Criar o gráfico de pizza\n",
    "plt.figure(figsize=(8,8))\n",
    "plt.pie(vendas_top5, labels=vendas_top5.index, autopct=\"%1.1f%%\", startangle=90, colors=[\"gold\", \"lightblue\", \"lightcoral\", \"lightgreen\", \"pink\"])\n",
    "plt.title(\"Top 5 Países por Quantidade de Vendas\")\n",
    "plt.show()\n"
   ]
  },
  {
   "cell_type": "code",
   "execution_count": 31,
   "metadata": {},
   "outputs": [
    {
     "data": {
      "image/png": "[encoded data removed]",
      "text/plain": [
       "<Figure size 1000x500 with 1 Axes>"
      ]
     },
     "metadata": {},
     "output_type": "display_data"
    }
   ],
   "source": [
    "# Agrupar o preço médio por divisão\n",
    "preco_medio_por_divisao = df.groupby(\"division\")[\"selling_price\"].mean()\n",
    "\n",
    "# Criar um gráfico de barras\n",
    "plt.figure(figsize=(10,5))\n",
    "plt.bar(preco_medio_por_divisao.index, preco_medio_por_divisao.values, color=\"purple\")\n",
    "plt.xlabel(\"Divisão\")\n",
    "plt.ylabel(\"Preço Médio\")\n",
    "plt.title(\"Preço Médio por Divisão\")\n",
    "plt.xticks(rotation=45)\n",
    "plt.show()"
   ]
  },
  {
   "cell_type": "code",
   "execution_count": null,
   "metadata": {},
   "outputs": [],
   "source": []
  }
 ],
 "metadata": {
  "kernelspec": {
   "display_name": "Python 3",
   "language": "python",
   "name": "python3"
  },
  "language_info": {
   "codemirror_mode": {
    "name": "ipython",
    "version": 3
   },
   "file_extension": ".py",
   "mimetype": "text/x-python",
   "name": "python",
   "nbconvert_exporter": "python",
   "pygments_lexer": "ipython3",
   "version": "3.10.11"
  }
 },
 "nbformat": 4,
 "nbformat_minor": 2
}
