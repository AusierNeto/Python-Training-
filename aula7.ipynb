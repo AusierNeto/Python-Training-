{
 "cells": [
  {
   "cell_type": "markdown",
   "metadata": {},
   "source": [
    "<h1>NumPy</h1>"
   ]
  },
  {
   "cell_type": "code",
   "execution_count": 6,
   "metadata": {},
   "outputs": [],
   "source": [
    "import numpy as np"
   ]
  },
  {
   "cell_type": "code",
   "execution_count": null,
   "metadata": {},
   "outputs": [],
   "source": [
    "precos = np.array([10.4, 40.2, 100, 22.46])\n",
    "idades = np.array([12, 13, 14, 15])"
   ]
  },
  {
   "cell_type": "code",
   "execution_count": null,
   "metadata": {},
   "outputs": [],
   "source": [
    "# Calcular estatísticas\n",
    "print(\"Média:\", np.mean(precos))\n",
    "print(\"Mínimo:\", np.min(precos))\n",
    "print(\"Máximo:\", np.max(precos))"
   ]
  },
  {
   "cell_type": "code",
   "execution_count": null,
   "metadata": {},
   "outputs": [],
   "source": [
    "# Simular aumento de 10% nos preços\n",
    "precos_aumentados = precos * 1.1\n",
    "precos_aumentados"
   ]
  },
  {
   "cell_type": "code",
   "execution_count": null,
   "metadata": {},
   "outputs": [],
   "source": [
    "# Idades daqui 2 anos\n",
    "idades_mais_2 = idades + 2\n",
    "idades_mais_2"
   ]
  },
  {
   "cell_type": "markdown",
   "metadata": {},
   "source": [
    "<h2>Exercício:</h2>\n",
    "<h4>Dada a seguinte lista de idades: [24, 25, 26, 44], crie um numpy array dessa lista, retorne a maior e a menor idade, seguida da sua média.</h4>\n",
    "<h4>Por fim, retorne como seriam as idades 2 anos atrás, utilizando operações em NumPy Array</h4>"
   ]
  },
  {
   "cell_type": "markdown",
   "metadata": {},
   "source": [
    "<h1>Pandas</h1>"
   ]
  },
  {
   "cell_type": "code",
   "execution_count": null,
   "metadata": {},
   "outputs": [],
   "source": [
    "import pandas as pd"
   ]
  },
  {
   "cell_type": "code",
   "execution_count": null,
   "metadata": {},
   "outputs": [],
   "source": [
    "# Criando um DataFrame do zero\n",
    "data = {\n",
    "    \"Produto\": [\"TV\", \"Monitor\", \"Notebook\"],\n",
    "    \"Preço\": [1500, 800, 3500],\n",
    "    \"Estoque\": [10, 20, 5]\n",
    "}\n",
    "df_exemplo = pd.DataFrame(data)\n",
    "print(df_exemplo)\n"
   ]
  },
  {
   "cell_type": "code",
   "execution_count": 8,
   "metadata": {},
   "outputs": [],
   "source": [
    "df = pd.read_csv('FAKE_DATA.csv')"
   ]
  },
  {
   "cell_type": "code",
   "execution_count": 11,
   "metadata": {},
   "outputs": [
    {
     "data": {
      "text/html": [
       "<div>\n",
       "<style scoped>\n",
       "    .dataframe tbody tr th:only-of-type {\n",
       "        vertical-align: middle;\n",
       "    }\n",
       "\n",
       "    .dataframe tbody tr th {\n",
       "        vertical-align: top;\n",
       "    }\n",
       "\n",
       "    .dataframe thead th {\n",
       "        text-align: right;\n",
       "    }\n",
       "</style>\n",
       "<table border=\"1\" class=\"dataframe\">\n",
       "  <thead>\n",
       "    <tr style=\"text-align: right;\">\n",
       "      <th></th>\n",
       "      <th>product_id</th>\n",
       "      <th>model_suffix</th>\n",
       "      <th>division</th>\n",
       "      <th>selling_price</th>\n",
       "      <th>sales_qty</th>\n",
       "      <th>production_qty</th>\n",
       "      <th>material_rate</th>\n",
       "      <th>customer_name</th>\n",
       "      <th>customer_email</th>\n",
       "      <th>customer_country</th>\n",
       "    </tr>\n",
       "  </thead>\n",
       "  <tbody>\n",
       "    <tr>\n",
       "      <th>0</th>\n",
       "      <td>1.0</td>\n",
       "      <td>Pastry - Apple Muffins - Mini</td>\n",
       "      <td>TV</td>\n",
       "      <td>368.92</td>\n",
       "      <td>707</td>\n",
       "      <td>5/26/2022</td>\n",
       "      <td>0.57</td>\n",
       "      <td>Geri Sheppard</td>\n",
       "      <td>gsheppard0@aboutads.info</td>\n",
       "      <td>Ukraine</td>\n",
       "    </tr>\n",
       "    <tr>\n",
       "      <th>1</th>\n",
       "      <td>NaN</td>\n",
       "      <td>NaN</td>\n",
       "      <td>TV</td>\n",
       "      <td>7.95</td>\n",
       "      <td>495</td>\n",
       "      <td>7/20/2022</td>\n",
       "      <td>0.53</td>\n",
       "      <td>Hanson Vowells</td>\n",
       "      <td>hvowells1@printfriendly.com</td>\n",
       "      <td>Azerbaijan</td>\n",
       "    </tr>\n",
       "    <tr>\n",
       "      <th>2</th>\n",
       "      <td>3.0</td>\n",
       "      <td>Capers - Ox Eye Daisy</td>\n",
       "      <td>MNT</td>\n",
       "      <td>430.14</td>\n",
       "      <td>776</td>\n",
       "      <td>10/28/2022</td>\n",
       "      <td>0.51</td>\n",
       "      <td>Ernesta Neylon</td>\n",
       "      <td>eneylon2@army.mil</td>\n",
       "      <td>Portugal</td>\n",
       "    </tr>\n",
       "    <tr>\n",
       "      <th>3</th>\n",
       "      <td>NaN</td>\n",
       "      <td>Sobe - Cranberry Grapefruit</td>\n",
       "      <td>TV</td>\n",
       "      <td>694.57</td>\n",
       "      <td>91</td>\n",
       "      <td>8/20/2022</td>\n",
       "      <td>0.62</td>\n",
       "      <td>Celle Mariet</td>\n",
       "      <td>cmariet3@nps.gov</td>\n",
       "      <td>Ukraine</td>\n",
       "    </tr>\n",
       "    <tr>\n",
       "      <th>4</th>\n",
       "      <td>5.0</td>\n",
       "      <td>Peas Snow</td>\n",
       "      <td>Caraud</td>\n",
       "      <td>180.83</td>\n",
       "      <td>268</td>\n",
       "      <td>6/9/2022</td>\n",
       "      <td>0.51</td>\n",
       "      <td>Pearl Whelband</td>\n",
       "      <td>NaN</td>\n",
       "      <td>Poland</td>\n",
       "    </tr>\n",
       "    <tr>\n",
       "      <th>...</th>\n",
       "      <td>...</td>\n",
       "      <td>...</td>\n",
       "      <td>...</td>\n",
       "      <td>...</td>\n",
       "      <td>...</td>\n",
       "      <td>...</td>\n",
       "      <td>...</td>\n",
       "      <td>...</td>\n",
       "      <td>...</td>\n",
       "      <td>...</td>\n",
       "    </tr>\n",
       "    <tr>\n",
       "      <th>995</th>\n",
       "      <td>NaN</td>\n",
       "      <td>Chocolate Bar - Reese Pieces</td>\n",
       "      <td>MNT</td>\n",
       "      <td>82.76</td>\n",
       "      <td>368</td>\n",
       "      <td>4/7/2022</td>\n",
       "      <td>0.33</td>\n",
       "      <td>Kelsi Shepton</td>\n",
       "      <td>ksheptonrn@nifty.com</td>\n",
       "      <td>Uganda</td>\n",
       "    </tr>\n",
       "    <tr>\n",
       "      <th>996</th>\n",
       "      <td>NaN</td>\n",
       "      <td>Jolt Cola - Electric Blue</td>\n",
       "      <td>Projector</td>\n",
       "      <td>917.79</td>\n",
       "      <td>540</td>\n",
       "      <td>12/19/2022</td>\n",
       "      <td>0.65</td>\n",
       "      <td>Madalyn Sansam</td>\n",
       "      <td>msansamro@sina.com.cn</td>\n",
       "      <td>Indonesia</td>\n",
       "    </tr>\n",
       "    <tr>\n",
       "      <th>997</th>\n",
       "      <td>998.0</td>\n",
       "      <td>Wine - Semi Dry Riesling Vineland</td>\n",
       "      <td>TV</td>\n",
       "      <td>638.40</td>\n",
       "      <td>600</td>\n",
       "      <td>1/11/2022</td>\n",
       "      <td>0.42</td>\n",
       "      <td>Gearard Hacard</td>\n",
       "      <td>NaN</td>\n",
       "      <td>Canada</td>\n",
       "    </tr>\n",
       "    <tr>\n",
       "      <th>998</th>\n",
       "      <td>NaN</td>\n",
       "      <td>Sparkling Wine - Rose, Freixenet</td>\n",
       "      <td>Caraud</td>\n",
       "      <td>978.29</td>\n",
       "      <td>545</td>\n",
       "      <td>11/4/2022</td>\n",
       "      <td>0.26</td>\n",
       "      <td>Kristin Wilsher</td>\n",
       "      <td>NaN</td>\n",
       "      <td>Germany</td>\n",
       "    </tr>\n",
       "    <tr>\n",
       "      <th>999</th>\n",
       "      <td>NaN</td>\n",
       "      <td>Bag - Regular Kraft 20 Lb</td>\n",
       "      <td>MNT</td>\n",
       "      <td>760.50</td>\n",
       "      <td>578</td>\n",
       "      <td>7/10/2022</td>\n",
       "      <td>0.44</td>\n",
       "      <td>Casper Challace</td>\n",
       "      <td>cchallacerr@skype.com</td>\n",
       "      <td>Brazil</td>\n",
       "    </tr>\n",
       "  </tbody>\n",
       "</table>\n",
       "<p>1000 rows × 10 columns</p>\n",
       "</div>"
      ],
      "text/plain": [
       "     product_id                       model_suffix   division  selling_price  \\\n",
       "0           1.0      Pastry - Apple Muffins - Mini         TV         368.92   \n",
       "1           NaN                                NaN         TV           7.95   \n",
       "2           3.0              Capers - Ox Eye Daisy        MNT         430.14   \n",
       "3           NaN        Sobe - Cranberry Grapefruit         TV         694.57   \n",
       "4           5.0                          Peas Snow     Caraud         180.83   \n",
       "..          ...                                ...        ...            ...   \n",
       "995         NaN       Chocolate Bar - Reese Pieces        MNT          82.76   \n",
       "996         NaN          Jolt Cola - Electric Blue  Projector         917.79   \n",
       "997       998.0  Wine - Semi Dry Riesling Vineland         TV         638.40   \n",
       "998         NaN   Sparkling Wine - Rose, Freixenet     Caraud         978.29   \n",
       "999         NaN          Bag - Regular Kraft 20 Lb        MNT         760.50   \n",
       "\n",
       "     sales_qty production_qty  material_rate    customer_name  \\\n",
       "0          707      5/26/2022           0.57    Geri Sheppard   \n",
       "1          495      7/20/2022           0.53   Hanson Vowells   \n",
       "2          776     10/28/2022           0.51   Ernesta Neylon   \n",
       "3           91      8/20/2022           0.62     Celle Mariet   \n",
       "4          268       6/9/2022           0.51   Pearl Whelband   \n",
       "..         ...            ...            ...              ...   \n",
       "995        368       4/7/2022           0.33    Kelsi Shepton   \n",
       "996        540     12/19/2022           0.65   Madalyn Sansam   \n",
       "997        600      1/11/2022           0.42   Gearard Hacard   \n",
       "998        545      11/4/2022           0.26  Kristin Wilsher   \n",
       "999        578      7/10/2022           0.44  Casper Challace   \n",
       "\n",
       "                  customer_email customer_country  \n",
       "0       gsheppard0@aboutads.info          Ukraine  \n",
       "1    hvowells1@printfriendly.com       Azerbaijan  \n",
       "2              eneylon2@army.mil         Portugal  \n",
       "3               cmariet3@nps.gov          Ukraine  \n",
       "4                            NaN           Poland  \n",
       "..                           ...              ...  \n",
       "995         ksheptonrn@nifty.com           Uganda  \n",
       "996        msansamro@sina.com.cn        Indonesia  \n",
       "997                          NaN           Canada  \n",
       "998                          NaN          Germany  \n",
       "999        cchallacerr@skype.com           Brazil  \n",
       "\n",
       "[1000 rows x 10 columns]"
      ]
     },
     "execution_count": 11,
     "metadata": {},
     "output_type": "execute_result"
    }
   ],
   "source": [
    "df.head()"
   ]
  },
  {
   "cell_type": "code",
   "execution_count": 12,
   "metadata": {},
   "outputs": [
    {
     "data": {
      "text/plain": [
       "pandas.core.frame.DataFrame"
      ]
     },
     "execution_count": 12,
     "metadata": {},
     "output_type": "execute_result"
    }
   ],
   "source": [
    "type(df)"
   ]
  },
  {
   "cell_type": "code",
   "execution_count": null,
   "metadata": {},
   "outputs": [],
   "source": [
    "# Filtrar produtos acima de R$ 300\n",
    "df_filtrado = df[df[\"selling_price\"] > 300]\n",
    "print(df_filtrado)\n",
    "\n",
    "# Ordenar por preço de venda\n",
    "df_sorted = df.sort_values(by=\"selling_price\", ascending=False)\n",
    "print(df_sorted)\n",
    "\n",
    "# Média de vendas por divisão\n",
    "media_divisao = df.groupby(\"division\")[\"sales_qty\"].mean()\n",
    "media_divisao"
   ]
  },
  {
   "cell_type": "code",
   "execution_count": null,
   "metadata": {},
   "outputs": [],
   "source": [
    "# Produtos vendidos acima de 500 unidades\n",
    "df_vendas_altas = df[df[\"sales_qty\"] > 500]\n",
    "print(df_vendas_altas)\n",
    "\n",
    "# Ordenar os produtos pela quantidade de produção\n",
    "df_sorted = df.sort_values(by=\"production_qty\", ascending=False)\n",
    "print(df_sorted)\n",
    "\n",
    "# Média de material rate por país de cliente\n",
    "media_material = df.groupby(\"customer_country\")[\"material_rate\"].mean()\n",
    "print(media_material)\n"
   ]
  },
  {
   "cell_type": "code",
   "execution_count": null,
   "metadata": {},
   "outputs": [],
   "source": [
    "# Exportar para CSV\n",
    "df.to_csv(\"dados_processados.csv\", index=False)\n",
    "\n",
    "# Exportar para Excel\n",
    "df.to_excel(\"dados_processados.xlsx\", sheet_name=\"Dados\", index=False)\n"
   ]
  },
  {
   "cell_type": "code",
   "execution_count": null,
   "metadata": {},
   "outputs": [],
   "source": [
    "with pd.ExcelWriter(\"relatorio.xlsx\") as writer:\n",
    "    df_vendas_altas.to_excel(writer, sheet_name=\"Vendas Altas\", index=False)\n",
    "    df_sorted.to_excel(writer, sheet_name=\"Ordenado por Preço\", index=False)"
   ]
  }
 ],
 "metadata": {
  "kernelspec": {
   "display_name": "Python 3",
   "language": "python",
   "name": "python3"
  },
  "language_info": {
   "codemirror_mode": {
    "name": "ipython",
    "version": 3
   },
   "file_extension": ".py",
   "mimetype": "text/x-python",
   "name": "python",
   "nbconvert_exporter": "python",
   "pygments_lexer": "ipython3",
   "version": "3.10.11"
  }
 },
 "nbformat": 4,
 "nbformat_minor": 2
}
